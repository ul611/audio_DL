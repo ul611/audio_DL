{
 "cells": [
  {
   "cell_type": "markdown",
   "metadata": {
    "id": "1LxiMiEui-kl"
   },
   "source": [
    "# Homework 3: train RNN-T"
   ]
  },
  {
   "cell_type": "markdown",
   "metadata": {
    "id": "NfPduSa6i-km"
   },
   "source": [
    "In this homework you will implement a variant of the RNN-T model. For that, you will have to\n",
    "- implement each part of its architecture: Encoder, Predictor, Joiner\n",
    "- implement the greedy decoding algorithm\n",
    "- train your model on a subset of the LibriSpeech corpus"
   ]
  },
  {
   "cell_type": "markdown",
   "metadata": {
    "id": "AboXphY7i-kp"
   },
   "source": [
    "# Setup - Install package, download files, etc..."
   ]
  },
  {
   "cell_type": "code",
   "execution_count": 1,
   "metadata": {
    "id": "6tO44Q_hi-kp",
    "scrolled": true
   },
   "outputs": [],
   "source": [
    "# !mkdir files\n",
    "# !wget -O files/utils.py https://raw.githubusercontent.com/severilov/DL-Audio-AIMasters-Course/main/seminars/seminar03/files/utils.py"
   ]
  },
  {
   "cell_type": "code",
   "execution_count": 2,
   "metadata": {
    "id": "gmrbnsCEi-kq",
    "scrolled": true
   },
   "outputs": [],
   "source": [
    "# !wget --load-cookies /tmp/cookies.txt \"https://drive.google.com/uc?export=download&confirm=$(wget --quiet --save-cookies /tmp/cookies.txt --keep-session-cookies --no-check-certificate 'https://drive.google.com/uc?export=download&id=14vgOVBayQGYv9B1P3hYo3JM56rS6ap3U' -O- | sed -rn 's/.*confirm=([0-9A-Za-z_]+).*/\\1\\n/p')&id=14vgOVBayQGYv9B1P3hYo3JM56rS6ap3U\" -O files/model_scripted_epoch_5.pt && rm -rf /tmp/cookies.txt"
   ]
  },
  {
   "cell_type": "code",
   "execution_count": 3,
   "metadata": {
    "id": "hcfHw_yWi-kr"
   },
   "outputs": [],
   "source": [
    "%%capture\n",
    "# !pip install wandb -qqq"
   ]
  },
  {
   "cell_type": "code",
   "execution_count": 4,
   "metadata": {
    "id": "4u_exS1ii-ks"
   },
   "outputs": [],
   "source": [
    "import os\n",
    "import string\n",
    "from typing import Tuple, List, Dict, Optional\n",
    "\n",
    "import numpy as np\n",
    "import pandas as pd\n",
    "import matplotlib.pyplot as plt\n",
    "import torch\n",
    "import torchaudio\n",
    "import torch.nn as nn\n",
    "import torch.nn.functional as F\n",
    "import torch.utils.data as data\n",
    "import wandb\n",
    "import ipywidgets as widgets\n",
    "import itertools\n",
    "from torch import optim\n",
    "from torchaudio.transforms import RNNTLoss\n",
    "from tqdm import tqdm_notebook, tqdm\n",
    "from IPython.display import display, clear_output"
   ]
  },
  {
   "cell_type": "code",
   "execution_count": 5,
   "metadata": {
    "id": "VceAkujPi-ks"
   },
   "outputs": [],
   "source": [
    "import files.utils as utils "
   ]
  },
  {
   "cell_type": "code",
   "execution_count": 6,
   "metadata": {
    "id": "txn-Rm7Si-kt",
    "outputId": "0bcb10f2-7160-4b54-da4d-ad1f70022502"
   },
   "outputs": [],
   "source": [
    "# !mkdir ./rnn_t_snapshots"
   ]
  },
  {
   "cell_type": "code",
   "execution_count": 7,
   "metadata": {
    "id": "n14D_Nzei-ks"
   },
   "outputs": [],
   "source": [
    "snapshot_dir = \"./rnn_t_snapshots\""
   ]
  },
  {
   "cell_type": "markdown",
   "metadata": {
    "id": "o8kaGJYEi-kn"
   },
   "source": [
    "# Seminar 3 RECAP: RNN-T Forward-Backward Algorithm"
   ]
  },
  {
   "cell_type": "markdown",
   "metadata": {},
   "source": [
    "In seminar 3 we have implememented forward and backward algorithms for calculating the RNN-T loss."
   ]
  },
  {
   "cell_type": "code",
   "execution_count": 8,
   "metadata": {
    "id": "EcM082LQi-kz"
   },
   "outputs": [],
   "source": [
    "def forward(log_probs: torch.FloatTensor, targets: torch.LongTensor, \n",
    "            blank: int = -1) -> Tuple[torch.FloatTensor, torch.FloatTensor]:\n",
    "    \"\"\"\n",
    "    :param log_probs: model outputs after applying log_softmax\n",
    "    :param targets: the target sequence of tokens, represented as integer indexes\n",
    "    :param blank: the index of blank symbol\n",
    "    :return: Tuple[ln alpha, -(ln alpha(T, U) + ln P(blank | T, U))]. \n",
    "        The latter term is loss value, which is -ln P(y | x)\n",
    "    \"\"\"\n",
    "    max_T, max_U, D = log_probs.shape\n",
    "    \n",
    "    # here the alpha variable contains logarithm of the alpha variable from the formulas above\n",
    "    alpha = np.zeros((max_T, max_U), dtype=np.float32)\n",
    "\n",
    "    for t in range(1, max_T):\n",
    "        alpha[t, 0] = alpha[t-1, 0] + log_probs[t-1, 0, blank]\n",
    "\n",
    "    for u in range(1, max_U):\n",
    "        alpha[0, u] = alpha[0, u-1] + log_probs[0, u-1, targets[min(u-1, len(targets)-1)]]\n",
    "\n",
    "    for t in range(1, max_T):\n",
    "        for u in range(1, max_U):\n",
    "            alpha[t, u] =  np.logaddexp(\n",
    "                alpha[t-1, u] + log_probs[t-1, u, blank],\n",
    "                alpha[t, u-1] + log_probs[t, u-1, targets[min(u-1, len(targets)-1)]]\n",
    "            )\n",
    "\n",
    "    cost = - (log_probs[-1, -1, blank] + alpha[-1, -1]) \n",
    "    return alpha, cost\n",
    "\n",
    "\n",
    "def backward(log_probs: torch.FloatTensor, targets: torch.LongTensor, \n",
    "             blank: int = -1) -> Tuple[torch.FloatTensor, torch.FloatTensor]:\n",
    "    \"\"\"\n",
    "    :param log_probs: model outputs after applying log_softmax\n",
    "    :param targets: the target sequence of tokens, represented as integer indexes\n",
    "    :param blank: the index of blank symbol\n",
    "    :return: Tuple[ln beta, -ln beta(0, 0)]. The latter term is loss value, which is -ln P(y | x)\n",
    "    \"\"\"\n",
    "    max_T, max_U, D = log_probs.shape\n",
    "    \n",
    "    # here the beta variable contains logarithm of the beta variable from the formulas above\n",
    "    beta = np.zeros((max_T, max_U), dtype=np.float32)\n",
    "    beta[-1, -1] = log_probs[-1, -1, blank]\n",
    "\n",
    "    for t in reversed(range(max_T - 1)):\n",
    "        beta[t, max_U-1] = beta[t+1, max_U-1] + log_probs[t, max_U-1, blank]\n",
    "\n",
    "    for u in reversed(range(max_U - 1)):\n",
    "        beta[max_T-1, u] = beta[max_T-1, u+1] + log_probs[max_T-1, u, targets[min(u, len(targets)-1)]]\n",
    "\n",
    "    for t in reversed(range(max_T - 1)):\n",
    "        for u in reversed(range(max_U - 1)):\n",
    "            beta[t, u] =  np.logaddexp(\n",
    "                beta[t+1, u] + log_probs[t, u, blank],\n",
    "                beta[t, u+1] + log_probs[t, u, targets[min(u, len(targets)-1)]]\n",
    "            )\n",
    "            \n",
    "    cost = - beta[0, 0]\n",
    "    return beta, cost"
   ]
  },
  {
   "cell_type": "markdown",
   "metadata": {
    "id": "e-Kcnm7Ki-k1"
   },
   "source": [
    "# Implementing, training and evaluating your RNN-T ASR model (30 points)"
   ]
  },
  {
   "cell_type": "markdown",
   "metadata": {
    "id": "u7_XForhi-k1"
   },
   "source": [
    "```\n",
    "[ ] (10 points) Build the model\n",
    "[ ] (5 points) Implementing a greedy decoder\n",
    "[ ] (10 points) Train the model \n",
    "```"
   ]
  },
  {
   "cell_type": "code",
   "execution_count": 9,
   "metadata": {
    "id": "TIy1M2ICi-k1"
   },
   "outputs": [],
   "source": [
    "BLANK_SYMBOL = \"_\"\n",
    "BOS = \"<BOS>\"\n",
    "\n",
    "\n",
    "class Tokenizer:\n",
    "    \"\"\"\n",
    "    Maps characters to integers and vice versa\n",
    "    \"\"\"\n",
    "    def __init__(self):\n",
    "        self.char_map = {}\n",
    "        self.index_map = {}\n",
    "        for i, ch in enumerate([\"'\", \" \"] + list(string.ascii_lowercase) + [BLANK_SYMBOL, BOS]):\n",
    "            self.char_map[ch] = i\n",
    "            self.index_map[i] = ch\n",
    "        \n",
    "    def text_to_indices(self, text: str) -> List[int]:\n",
    "        \"\"\"\n",
    "        Maps string to a list of integers\n",
    "        \"\"\"\n",
    "        return [self.char_map[ch] for ch in text]\n",
    "\n",
    "    def indices_to_text(self, labels: List[int]) -> str:\n",
    "        \"\"\"\n",
    "        Maps integers back to text\n",
    "        \"\"\"\n",
    "        return \"\".join([self.index_map[i] for i in labels])\n",
    "    \n",
    "    def get_symbol_index(self, sym: str) -> int:\n",
    "        \"\"\"\n",
    "        Returns index for the specified symbol\n",
    "        \"\"\"\n",
    "        return self.char_map[sym]\n",
    "    \n",
    "\n",
    "tokenizer = Tokenizer()"
   ]
  },
  {
   "cell_type": "markdown",
   "metadata": {
    "id": "t_QF8XMBi-k2"
   },
   "source": [
    "### Utils for creating a dataloader"
   ]
  },
  {
   "cell_type": "code",
   "execution_count": 10,
   "metadata": {
    "id": "L_Xmk902i-k2"
   },
   "outputs": [],
   "source": [
    "# Download LibriSpeech 100hr training and test data\n",
    "\n",
    "if not os.path.isdir(\"./data\"):\n",
    "    os.makedirs(\"./data\")\n",
    "\n",
    "train_dataset = torchaudio.datasets.LIBRISPEECH(\"./data\", url=\"train-clean-100\", download=True)\n",
    "test_dataset = torchaudio.datasets.LIBRISPEECH(\"./data\", url=\"test-clean\", download=True)"
   ]
  },
  {
   "cell_type": "code",
   "execution_count": 11,
   "metadata": {
    "id": "mLWxbcjMi-k2"
   },
   "outputs": [],
   "source": [
    "# For train you can use SpecAugment data aug here.\n",
    "train_audio_transforms = nn.Sequential(\n",
    "    torchaudio.transforms.MelSpectrogram(sample_rate=16000, n_mels=80),\n",
    "    torchaudio.transforms.FrequencyMasking(freq_mask_param=27),\n",
    "    torchaudio.transforms.TimeMasking(time_mask_param=100)\n",
    ")\n",
    "\n",
    "test_audio_transforms = torchaudio.transforms.MelSpectrogram(sample_rate=16000, n_mels=80)"
   ]
  },
  {
   "cell_type": "code",
   "execution_count": 12,
   "metadata": {
    "id": "cLsCL472i-k2"
   },
   "outputs": [],
   "source": [
    "def data_processing(data: torchaudio.datasets.librispeech.LIBRISPEECH, \n",
    "                    data_type: str = \"train\") -> Tuple[torch.Tensor, torch.IntTensor, torch.IntTensor, torch.IntTensor]:\n",
    "    \"\"\"\n",
    "    :param data: a LIBRISPEECH dataset\n",
    "    :param data_type: \"train\" or \"test\"\n",
    "    :return: tuple of\n",
    "        spectrograms, shape: (B, T, n_mels)\n",
    "        labels, shape: (B, U)\n",
    "        input_lengths -- the length of each spectrogram in the batch, shape: (B,)\n",
    "        label_lengths -- the length of each text label in the batch, shape: (B,)\n",
    "        where\n",
    "        B: batch size\n",
    "        T: maximum source sequence length in batch\n",
    "        U: maximum target sequence length in batch\n",
    "        D: feature dimension of each source sequence element\n",
    "    \"\"\"\n",
    "    spectrograms = []\n",
    "    labels = []\n",
    "    input_lengths = []\n",
    "    label_lengths = []\n",
    "    for (waveform, _, utterance, _, _, _) in data:\n",
    "        if data_type == 'train':\n",
    "            spec = train_audio_transforms(waveform).squeeze(0).transpose(0, 1)\n",
    "        elif data_type == 'test':\n",
    "            spec = test_audio_transforms(waveform).squeeze(0).transpose(0, 1)\n",
    "        else:\n",
    "            raise Exception('data_type should be train or valid')\n",
    "        spectrograms.append(spec)\n",
    "        label = torch.IntTensor(tokenizer.text_to_indices(utterance.lower()))\n",
    "        labels.append(label)\n",
    "        input_lengths.append(spec.shape[0])\n",
    "        label_lengths.append(len(label))\n",
    "\n",
    "    spectrograms = nn.utils.rnn.pad_sequence(spectrograms, batch_first=True)\n",
    "    labels = nn.utils.rnn.pad_sequence(labels, batch_first=True)\n",
    "\n",
    "    return spectrograms, torch.IntTensor(labels), torch.IntTensor(input_lengths), torch.IntTensor(label_lengths)\n"
   ]
  },
  {
   "cell_type": "markdown",
   "metadata": {
    "id": "1SbrcCk6i-k3"
   },
   "source": [
    "## Build the model (10 points)"
   ]
  },
  {
   "cell_type": "code",
   "execution_count": 13,
   "metadata": {},
   "outputs": [],
   "source": [
    "class EncoderRNNT(nn.Module):\n",
    "    def __init__(self, input_dim: int, hidden_size: int, output_dim: int, n_layers: int, \n",
    "                 dropout: float = 0.2, bidirectional: bool = True):\n",
    "        super().__init__()\n",
    "\n",
    "        self.lstm = nn.LSTM(input_dim, hidden_size, num_layers=n_layers, dropout=dropout,\n",
    "                            bidirectional=bidirectional)\n",
    "\n",
    "        # Calculate the output dimension after LSTM layers\n",
    "        lstm_output_dim = hidden_size * 2 if bidirectional else hidden_size\n",
    "        # Project the outputs to the desired output dimension\n",
    "        self.output_proj = nn.Linear(lstm_output_dim, output_dim)\n",
    "\n",
    "    def forward(self, inputs: torch.Tensor, input_lengths: torch.Tensor) -> Tuple[torch.Tensor, List[torch.Tensor]]:\n",
    "        \"\"\"\n",
    "        :param inputs: spectrograms, shape: (B, T, n_mels)\n",
    "        :param input_lengths: the lengths of the spectrograms in the batch, shape: (B,)\n",
    "        :return: outputs of the projection layer and hidden states from LSTMs\n",
    "        \"\"\"\n",
    "        \n",
    "        packed_inputs = nn.utils.rnn.pack_padded_sequence(inputs, input_lengths, batch_first=True, enforce_sorted=False)\n",
    "        packed_outputs, hidden = self.lstm(packed_inputs)\n",
    "        outputs, _ = nn.utils.rnn.pad_packed_sequence(packed_outputs, batch_first=True)\n",
    "        logits = self.output_proj(outputs)\n",
    "\n",
    "        return logits, hidden\n",
    "\n"
   ]
  },
  {
   "cell_type": "code",
   "execution_count": 14,
   "metadata": {
    "id": "tCeaQG-2i-k4"
   },
   "outputs": [],
   "source": [
    "encoder = EncoderRNNT(\n",
    "    input_dim=80,\n",
    "    hidden_size=320,\n",
    "    output_dim=512, \n",
    "    n_layers=4,\n",
    "    dropout=0.2,\n",
    "    bidirectional=True\n",
    ")\n",
    "\n",
    "loader = data.DataLoader(test_dataset, batch_size=2, shuffle=False, collate_fn=lambda x: data_processing(x, 'test'))\n",
    "spectrograms, labels, input_lengths, label_lengths = next(iter(loader))\n",
    "logits, hidden_states = encoder.forward(spectrograms, input_lengths)\n",
    "\n",
    "assert spectrograms.shape == torch.Size([2, 835, 80])\n",
    "assert logits.shape == torch.Size([2, 835, 512]) \n",
    "assert len(hidden_states) == 2\n",
    "assert hidden_states[0].shape == torch.Size([8, 2, 320])"
   ]
  },
  {
   "cell_type": "code",
   "execution_count": 15,
   "metadata": {
    "id": "bhLTyplNi-k4"
   },
   "outputs": [],
   "source": [
    "class DecoderRNNT(nn.Module):\n",
    "    def __init__(self, hidden_size: int, vocab_size: int, output_dim: int, n_layers: int, dropout: float = 0.2):\n",
    "        \"\"\"\n",
    "        A simple RNN-based autoregressive language model that takes as input previously generated text tokens\n",
    "        and outputs a hidden representation of the next token\n",
    "\n",
    "        :param hidden_size: the number of features in the hidden states in LSTM layers\n",
    "        :param vocab_size: the number of text tokens in the dictionary\n",
    "        :param output_dim: the output dimension\n",
    "        :param n_layers: the number of stacked LSTM layers\n",
    "        :param dropout: the dropout probability for LSTM layers\n",
    "        \"\"\"\n",
    "        super().__init__()\n",
    "        self.embedding = nn.Embedding(vocab_size, hidden_size)\n",
    "        self.lstm = nn.LSTM(hidden_size, hidden_size, num_layers=n_layers, dropout=dropout, batch_first=True)\n",
    "        self.output_proj = nn.Linear(hidden_size, output_dim)\n",
    "\n",
    "    def forward(self, inputs: torch.Tensor, input_lengths: Optional[torch.Tensor] = None, \n",
    "                hidden_states: Optional[Tuple[torch.Tensor, torch.Tensor]] = None) -> Tuple[torch.Tensor, List[torch.Tensor]]:\n",
    "        \"\"\"\n",
    "        :param inputs: labels, shape: (B, U)\n",
    "        :param input_lengths: the lengths of the text labels in the batch, shape: (B,)\n",
    "        :return: outputs of the projection layer and hidden states from LSTMs\n",
    "        \"\"\"\n",
    "        embed_inputs = self.embedding(inputs)\n",
    "\n",
    "        if input_lengths is not None:\n",
    "            # training phase, the code here is close to `forward` of the Encoder \n",
    "            packed_inputs = nn.utils.rnn.pack_padded_sequence(embed_inputs, input_lengths, batch_first=True, enforce_sorted=False)\n",
    "            packed_outputs, hidden = self.lstm(packed_inputs)\n",
    "            outputs, _ = nn.utils.rnn.pad_packed_sequence(packed_outputs, batch_first=True)\n",
    "        else:\n",
    "            # testing phase\n",
    "            outputs, hidden = self.lstm(embed_inputs, hidden_states)\n",
    "\n",
    "        outputs = self.output_proj(outputs)\n",
    "        return outputs, hidden"
   ]
  },
  {
   "cell_type": "code",
   "execution_count": 2,
   "metadata": {
    "id": "QNGRqpMji-k4"
   },
   "outputs": [],
   "source": [
    "decoder = DecoderRNNT(\n",
    "    hidden_size=512,\n",
    "    vocab_size=len(tokenizer.char_map),\n",
    "    output_dim=512, \n",
    "    n_layers=1, \n",
    "    dropout=0.2\n",
    ")\n",
    "\n",
    "loader = data.DataLoader(test_dataset, batch_size=2, shuffle=False, collate_fn=lambda x: data_processing(x, 'test'))\n",
    "spectrograms, labels, input_lengths, label_lengths = next(iter(loader))\n",
    "logits, hidden_states = decoder.forward(labels, label_lengths)\n",
    "\n",
    "assert labels.shape == torch.Size([2, 158])\n",
    "assert logits.shape == torch.Size([2, 158, 512])\n",
    "assert len(hidden_states) == 2\n",
    "assert hidden_states[0].shape == torch.Size([1, 2, 512])"
   ]
  },
  {
   "cell_type": "code",
   "execution_count": 17,
   "metadata": {
    "id": "IaM_Tkzhi-k5"
   },
   "outputs": [],
   "source": [
    "class Joiner(torch.nn.Module):\n",
    "    def __init__(self, joiner_dim: int, num_outputs: int):\n",
    "        \"\"\"\n",
    "        Adds encoder and decoder outputs, applies ReLU and passes the result \n",
    "        through a fully connected layer to get the output logits\n",
    "        \n",
    "        :param joiner_dim: the dimension of the encoder and decoder outputs\n",
    "        :num_outputs: the number of text tokens in the dictionary\n",
    "        \"\"\"\n",
    "        super().__init__()\n",
    "        self.linear = nn.Linear(joiner_dim, num_outputs)\n",
    "\n",
    "    def forward(self, encoder_outputs: torch.Tensor, decoder_outputs: torch.Tensor) -> torch.Tensor:\n",
    "        \"\"\"\n",
    "        :param encoder_outputs: the encoder outputs (f_t), shape: (B, T, joiner_dim) or (joiner_dim,)\n",
    "        :param decoder_outputs: the decoder outputs (g_u), shape: (B, U, joiner_dim) or (joiner_dim,)\n",
    "        :return: output logits\n",
    "        \"\"\"\n",
    "        if encoder_outputs.dim() == 3 and decoder_outputs.dim() == 3:    # True for training phase\n",
    "            encoder_outputs = encoder_outputs.unsqueeze(2)\n",
    "            decoder_outputs = decoder_outputs.unsqueeze(1)\n",
    "\n",
    "        # Element-wise addition of encoder and decoder outputs\n",
    "        join = encoder_outputs + decoder_outputs\n",
    "        # Linear(ReLU(f_t + g_u))\n",
    "        out = self.linear(F.relu(join))\n",
    "        \n",
    "        return out"
   ]
  },
  {
   "cell_type": "code",
   "execution_count": 18,
   "metadata": {
    "id": "ovd_OawAi-k5"
   },
   "outputs": [],
   "source": [
    "class RNNTransducer(torch.nn.Module):\n",
    "    def __init__(self,\n",
    "        num_classes: int,\n",
    "        input_dim: int,\n",
    "        num_encoder_layers: int = 4,\n",
    "        num_decoder_layers: int = 1,\n",
    "        encoder_hidden_state_dim: int = 320,\n",
    "        decoder_hidden_state_dim: int = 512,\n",
    "        output_dim: int = 512,\n",
    "        encoder_is_bidirectional: bool = True,\n",
    "        encoder_dropout_p: float = 0.2,\n",
    "        decoder_dropout_p: float = 0.2\n",
    "    ):\n",
    "        \"\"\"\n",
    "        :param num_classes: the number of text tokens in the dictionary\n",
    "        :param input_dim: the number of mel-spectrogram features\n",
    "        :param num_encoder_layers: the number of LSTM layers in the encoder\n",
    "        :param num_decoder_layers: the number of LSTM layers in the decoder\n",
    "        :param encoder_hidden_state_dim: the number of features in the hidden states for the encoder\n",
    "        :param decoder_hidden_state_dim: the number of features in the hidden states for the decoder\n",
    "        :param output_dim: the output dimension\n",
    "        :param encoder_is_bidirectional: whether to use bidirectional LSTM's in the encoder\n",
    "        :param encoder_dropout_p: the dropout probability for the encoder\n",
    "        :param decoder_dropout_p: the dropout probability for the decoder\n",
    "        \"\"\"\n",
    "        super().__init__()\n",
    "        self.encoder = EncoderRNNT(\n",
    "            input_dim=input_dim,\n",
    "            hidden_size=encoder_hidden_state_dim,\n",
    "            output_dim=output_dim,\n",
    "            n_layers=num_encoder_layers,\n",
    "            dropout=encoder_dropout_p,\n",
    "            bidirectional=encoder_is_bidirectional\n",
    "        )\n",
    "        \n",
    "        # The decoder takes the input <BOS> + the original sequence. \n",
    "        # You need to shift the current label, and F.pad can help with that.\n",
    "        \n",
    "        self.decoder = DecoderRNNT(\n",
    "            hidden_size=decoder_hidden_state_dim,\n",
    "            vocab_size=num_classes,\n",
    "            output_dim=output_dim,\n",
    "            n_layers=num_decoder_layers,\n",
    "            dropout=decoder_dropout_p\n",
    "        )\n",
    "        self.joiner = Joiner(output_dim, num_classes)\n",
    "\n",
    "    def forward(self, inputs: torch.Tensor, input_lengths: torch.Tensor, \n",
    "                targets: torch.Tensor, target_lengths: torch.Tensor) -> torch.Tensor:\n",
    "        \"\"\"\n",
    "        :param inputs: spectrograms, shape: (B, T, n_mels)\n",
    "        :param input_lengths: the lengths of the spectrograms in the batch, shape: (B,)\n",
    "        :param targets: labels, shape: (B, U)\n",
    "        :param target_lengths: the lengths of the text labels in the batch, shape: (B,)\n",
    "        :return: the output logits, shape: (B, T, U, n_tokens)\n",
    "        \"\"\"\n",
    "        encoder_outputs, _ = self.encoder(inputs, input_lengths)\n",
    "\n",
    "        # Shift labels for the decoder input\n",
    "        shifted_targets = F.pad(targets, (1, 0), value=tokenizer.char_map[BOS])\n",
    "        \n",
    "        decoder_outputs, _ = self.decoder(shifted_targets, target_lengths + 1, encoder_outputs)\n",
    "        joiner_out = self.joiner(encoder_outputs, decoder_outputs)\n",
    "        return joiner_out\n"
   ]
  },
  {
   "cell_type": "code",
   "execution_count": 19,
   "metadata": {
    "id": "PnC5EE33i-k6"
   },
   "outputs": [],
   "source": [
    "transducer = RNNTransducer(\n",
    "    num_classes=len(tokenizer.char_map),\n",
    "    input_dim=80,\n",
    "    num_encoder_layers=4,\n",
    "    num_decoder_layers=1,\n",
    "    encoder_hidden_state_dim=320,\n",
    "    decoder_hidden_state_dim=512,\n",
    "    output_dim=512,\n",
    "    encoder_is_bidirectional=True,\n",
    "    encoder_dropout_p=0.2,\n",
    "    decoder_dropout_p=0.2\n",
    ")\n",
    "\n",
    "loader = data.DataLoader(test_dataset, batch_size=2, shuffle=False, collate_fn=lambda x: data_processing(x, 'test'))\n",
    "spectrograms, labels, input_lengths, label_lengths = next(iter(loader))\n",
    "result = transducer.forward(spectrograms, input_lengths, labels, label_lengths)\n",
    "\n",
    "assert spectrograms.shape == torch.Size([2, 835, 80])\n",
    "assert labels.shape == torch.Size([2, 158])\n",
    "assert result.shape == torch.Size([2, 835, 159, 30])"
   ]
  },
  {
   "cell_type": "markdown",
   "metadata": {
    "id": "qBdlLxKni-k6"
   },
   "source": [
    "## Implementing a greedy decoder (5 points)"
   ]
  },
  {
   "cell_type": "markdown",
   "metadata": {
    "id": "RPZv4-Bdi-k6"
   },
   "source": [
    "<p style=\"text-align:center;\"><img src=\"http://drive.google.com/uc?export=view&id=1tHsoq0ZH0tHSHYlYlw00y8ksF-wHmrmC\">"
   ]
  },
  {
   "cell_type": "markdown",
   "metadata": {
    "id": "wMhA58FEi-k6"
   },
   "source": [
    "Now we know how to train a Transducer, but how do we infer it? Our task is to generate an output sequence $\\mathbf y$ given an input acoustic sequence $\\mathbf x$.\n",
    "\n",
    "Here we will index the encoder outputs $f_t$ starting from zero, because it is more convenient when describing an algorithm.\n",
    "\n",
    "The greedy decoding procedure is as follows:\n",
    "1. Compute $\\{f_0, \\ldots, f_T\\}$ using $\\mathbf x$.\n",
    "2. Set $t = 0$, $u = 0$, $\\mathbf y = []$, $\\mathrm{iteration} = 0$.\n",
    "3. If $u = 0$, set $g_0 = \\mathrm{Encoder}(\\langle s \\rangle)$. If $u > 0$, compute $g_u$ using the last predicted token $\\mathbf y[-1]$.\n",
    "4. Compute $P(y | t, u)$ using $f_t$ and $g_u$.\n",
    "5. If argmax of $P(y | t, u)$ is a label, set $u = u + 1$ and append the new label to $\\mathbf y$. \n",
    "6. If argmax of $P(y | t, u)$ is $\\emptyset$, set $t = t + 1$.\n",
    "7. If $t = T$ or $\\mathrm{iteration} = \\mathrm{max\\_iterations}$, we are done. Else, set $\\mathrm{iteration} = \\mathrm{iteration + 1}$ and go to step 3."
   ]
  },
  {
   "cell_type": "code",
   "execution_count": 20,
   "metadata": {
    "id": "o3tjfGsji-k7"
   },
   "outputs": [],
   "source": [
    "@torch.no_grad()\n",
    "def greedy_decode(model: RNNTransducer, encoder_output: torch.Tensor, max_steps: int = 2000) -> torch.Tensor:\n",
    "    \"\"\"\n",
    "    :param model: an RNN-T model in eval mode\n",
    "    :param encoder_output: the output of the encoder part of RNN-T, shape: (T, encoder_output_dim)\n",
    "    :param max_steps: the maximum number of decoding steps\n",
    "    :return: the predicted labels\n",
    "    \"\"\"\n",
    "    pred_tokens, hidden_state = [], None\n",
    "    blank_idx = tokenizer.get_symbol_index(BLANK_SYMBOL)\n",
    "    max_time_steps = encoder_output.size(0)\n",
    "    t = 0\n",
    "\n",
    "    decoder_input = encoder_output.new_tensor([[tokenizer.get_symbol_index(BOS)]], dtype=torch.long)\n",
    "    decoder_output, hidden_state = model.decoder(decoder_input, hidden_states=hidden_state)\n",
    "\n",
    "    for _ in range(max_steps):\n",
    "        token_probabilities = model.joiner(encoder_output[t], decoder_output.squeeze(1))[0]\n",
    "        predicted_token_idx = torch.argmax(token_probabilities).item()\n",
    "\n",
    "        if predicted_token_idx == blank_idx:\n",
    "            t += 1\n",
    "        else:\n",
    "            pred_tokens.append(predicted_token_idx)\n",
    "            decoder_input = encoder_output.new_tensor([[pred_tokens[-1]]], dtype=torch.long)\n",
    "            decoder_output, hidden_state = model.decoder(decoder_input, hidden_states=hidden_state)\n",
    "\n",
    "        if t == max_time_steps:\n",
    "            break\n",
    "\n",
    "    return torch.LongTensor(pred_tokens)\n",
    "\n",
    "\n",
    "@torch.no_grad()\n",
    "def recognize(model: RNNTransducer, inputs: torch.Tensor, input_lengths: torch.Tensor) -> List[torch.Tensor]:\n",
    "    \"\"\"\n",
    "    :param model: an RNN-T model in eval mode\n",
    "    :param inputs: spectrograms, shape: (B, T, n_mels)\n",
    "    :param input_lengths: the lengths of the spectrograms in the batch, shape: (B,)\n",
    "    :return: a list with the predicted labels\n",
    "    \"\"\"\n",
    "    outputs = []\n",
    "    encoder_outputs, _ = model.encoder(inputs, input_lengths)\n",
    "\n",
    "    for encoder_output in encoder_outputs:\n",
    "        decoded_seq = greedy_decode(model, encoder_output)\n",
    "        outputs.append(decoded_seq)\n",
    "\n",
    "    return outputs\n",
    "\n",
    "\n",
    "def get_transducer_predictions(\n",
    "        transducer: RNNTransducer, inputs: torch.Tensor, input_lengths: torch.Tensor, \n",
    "        targets: torch.Tensor, target_lengths: torch.Tensor\n",
    "    ) -> pd.DataFrame:\n",
    "    \"\"\"\n",
    "    :param transducer: an RNN-T model in eval mode\n",
    "    :param inputs: spectrograms, shape: (B, T, n_mels)\n",
    "    :param input_lengths: the lengths of the spectrograms in the batch, shape: (B,)\n",
    "    :param targets: labels, shape: (B, U)\n",
    "    :param target_lengths: the lengths of the text labels in the batch, shape: (B,)\n",
    "    :return: a pd.DataFrame with inference results\n",
    "    \"\"\"\n",
    "    predictions = recognize(transducer, inputs, input_lengths)\n",
    "    result = []\n",
    "    for pred, target, target_len in zip(predictions, targets, target_lengths):\n",
    "        label = target[:target_len]\n",
    "        utterance = tokenizer.indices_to_text(list(map(int, label)))\n",
    "        pred_utterance = tokenizer.indices_to_text(list(map(int, pred)))\n",
    "        result.append({\n",
    "            \"ground_truth\": utterance,\n",
    "            \"prediction\": pred_utterance,\n",
    "            \"cer\": utils.cer(utterance, pred_utterance),\n",
    "            \"wer\": utils.wer(utterance, pred_utterance)\n",
    "        })\n",
    "    return pd.DataFrame.from_records(result)\n"
   ]
  },
  {
   "cell_type": "code",
   "execution_count": 21,
   "metadata": {
    "id": "FIJtZpE3i-k7"
   },
   "outputs": [
    {
     "data": {
      "text/plain": [
       "RecursiveScriptModule(\n",
       "  original_name=RNNTransducer\n",
       "  (encoder): RecursiveScriptModule(\n",
       "    original_name=EncoderRNNT\n",
       "    (lstm): RecursiveScriptModule(original_name=LSTM)\n",
       "    (output_proj): RecursiveScriptModule(original_name=Linear)\n",
       "  )\n",
       "  (decoder): RecursiveScriptModule(\n",
       "    original_name=DecoderRNNT\n",
       "    (embedding): RecursiveScriptModule(original_name=Embedding)\n",
       "    (lstm): RecursiveScriptModule(original_name=LSTM)\n",
       "    (output_proj): RecursiveScriptModule(original_name=Linear)\n",
       "  )\n",
       "  (joiner): RecursiveScriptModule(\n",
       "    original_name=Joiner\n",
       "    (linear): RecursiveScriptModule(original_name=Linear)\n",
       "  )\n",
       ")"
      ]
     },
     "execution_count": 21,
     "metadata": {},
     "output_type": "execute_result"
    }
   ],
   "source": [
    "model = torch.jit.load('./files/model_scripted_epoch_5.pt')\n",
    "model.eval()"
   ]
  },
  {
   "cell_type": "code",
   "execution_count": 22,
   "metadata": {
    "id": "mu-sVO4Hi-k8"
   },
   "outputs": [
    {
     "data": {
      "text/html": [
       "<div>\n",
       "<style scoped>\n",
       "    .dataframe tbody tr th:only-of-type {\n",
       "        vertical-align: middle;\n",
       "    }\n",
       "\n",
       "    .dataframe tbody tr th {\n",
       "        vertical-align: top;\n",
       "    }\n",
       "\n",
       "    .dataframe thead th {\n",
       "        text-align: right;\n",
       "    }\n",
       "</style>\n",
       "<table border=\"1\" class=\"dataframe\">\n",
       "  <thead>\n",
       "    <tr style=\"text-align: right;\">\n",
       "      <th></th>\n",
       "      <th>ground_truth</th>\n",
       "      <th>prediction</th>\n",
       "      <th>cer</th>\n",
       "      <th>wer</th>\n",
       "    </tr>\n",
       "  </thead>\n",
       "  <tbody>\n",
       "    <tr>\n",
       "      <th>0</th>\n",
       "      <td>he hoped there would be stew for dinner turnip...</td>\n",
       "      <td>he hoped there would be stew for dinner turnip...</td>\n",
       "      <td>0.132911</td>\n",
       "      <td>0.250000</td>\n",
       "    </tr>\n",
       "    <tr>\n",
       "      <th>1</th>\n",
       "      <td>stuff it into you his belly counselled him</td>\n",
       "      <td>stuffed into you his belly counciled him</td>\n",
       "      <td>0.142857</td>\n",
       "      <td>0.375000</td>\n",
       "    </tr>\n",
       "    <tr>\n",
       "      <th>2</th>\n",
       "      <td>after early nightfall the yellow lamps would l...</td>\n",
       "      <td>after early night fall the yellow lamps would ...</td>\n",
       "      <td>0.096154</td>\n",
       "      <td>0.333333</td>\n",
       "    </tr>\n",
       "    <tr>\n",
       "      <th>3</th>\n",
       "      <td>hello bertie any good in your mind</td>\n",
       "      <td>her about he and he good in your mind</td>\n",
       "      <td>0.352941</td>\n",
       "      <td>0.714286</td>\n",
       "    </tr>\n",
       "    <tr>\n",
       "      <th>4</th>\n",
       "      <td>number ten fresh nelly is waiting on you good ...</td>\n",
       "      <td>none but den fresh now as waiting on you could...</td>\n",
       "      <td>0.254237</td>\n",
       "      <td>0.545455</td>\n",
       "    </tr>\n",
       "  </tbody>\n",
       "</table>\n",
       "</div>"
      ],
      "text/plain": [
       "                                        ground_truth  \\\n",
       "0  he hoped there would be stew for dinner turnip...   \n",
       "1         stuff it into you his belly counselled him   \n",
       "2  after early nightfall the yellow lamps would l...   \n",
       "3                 hello bertie any good in your mind   \n",
       "4  number ten fresh nelly is waiting on you good ...   \n",
       "\n",
       "                                          prediction       cer       wer  \n",
       "0  he hoped there would be stew for dinner turnip...  0.132911  0.250000  \n",
       "1           stuffed into you his belly counciled him  0.142857  0.375000  \n",
       "2  after early night fall the yellow lamps would ...  0.096154  0.333333  \n",
       "3              her about he and he good in your mind  0.352941  0.714286  \n",
       "4  none but den fresh now as waiting on you could...  0.254237  0.545455  "
      ]
     },
     "execution_count": 22,
     "metadata": {},
     "output_type": "execute_result"
    }
   ],
   "source": [
    "loader = data.DataLoader(test_dataset, batch_size=5, shuffle=False, collate_fn=lambda x: data_processing(x, 'test'))\n",
    "spectrograms, labels, input_lengths, label_lengths = next(iter(loader))\n",
    "predictions = get_transducer_predictions(\n",
    "    model, spectrograms, input_lengths, \n",
    "    labels, label_lengths\n",
    ")\n",
    "predictions"
   ]
  },
  {
   "cell_type": "code",
   "execution_count": 23,
   "metadata": {
    "id": "_Udw1t9ii-k8"
   },
   "outputs": [],
   "source": [
    "reference_values = [\n",
    "    {\n",
    "        \"gt\": \"he hoped there would be stew for dinner turnips and carrots and bruised potatoes and fat mutton pieces to be ladled out in thick peppered flour fattened sauce\",\n",
    "        \"prediction\": \"he hoped there would be stew for dinner turnips and characts and bruised potatoes and fat much and pieces to be lateled out in the thick peppered flowerfacton sauce\"\n",
    "    },\n",
    "    {\n",
    "        \"gt\": \"stuff it into you his belly counselled him\",\n",
    "        \"prediction\": \"stuffed into you his belly counciled him\"\n",
    "    },\n",
    "    {\n",
    "        \"gt\": \"after early nightfall the yellow lamps would light up here and there the squalid quarter of the brothels\",\n",
    "        \"prediction\": \"after early night fall the yellow lamps would lie how peer and there the squalit quarter of the brothels\"\n",
    "    },\n",
    "    {\n",
    "        \"gt\": \"hello bertie any good in your mind\",\n",
    "        \"prediction\": \"her about he and he good in your mind\"\n",
    "    },\n",
    "    {\n",
    "        \"gt\": \"number ten fresh nelly is waiting on you good night husband\",\n",
    "        \"prediction\": \"none but den fresh now as waiting on you could night husband\"\n",
    "    }\n",
    "]\n",
    "\n"
   ]
  },
  {
   "cell_type": "code",
   "execution_count": 24,
   "metadata": {
    "id": "g7Pk9s7ei-k8"
   },
   "outputs": [],
   "source": [
    "for index in range(5):\n",
    "    gt = predictions.iloc[index].ground_truth\n",
    "    prediction = predictions.iloc[index].prediction\n",
    "    assert gt == reference_values[index][\"gt\"]\n",
    "    assert prediction == reference_values[index][\"prediction\"]"
   ]
  },
  {
   "cell_type": "markdown",
   "metadata": {
    "id": "rKCR9BdFi-k9"
   },
   "source": [
    "## Train your model (10 points)"
   ]
  },
  {
   "cell_type": "markdown",
   "metadata": {
    "id": "MBEOtdeZi-k9"
   },
   "source": [
    "Here you can launch training of the model you've just built. To get **4 points**, provide the curves for test loss, CER and WER from Weights & Biases.\n",
    "\n",
    "After training, you will get the test metric values on the hold-out test set. To get the rest **6 points**, try to pass the following thresholds:\n",
    "\n",
    "- 0.15 test CER\n",
    "- 0.3 test WER"
   ]
  },
  {
   "cell_type": "code",
   "execution_count": 26,
   "metadata": {},
   "outputs": [],
   "source": [
    "from tqdm import notebook"
   ]
  },
  {
   "cell_type": "code",
   "execution_count": 27,
   "metadata": {
    "id": "6wyqZtQ8i-k9"
   },
   "outputs": [],
   "source": [
    "def train(model: nn.Module, device: str, train_loader: data.DataLoader,\n",
    "          test_sample: List[torch.Tensor], criterion: nn.Module, optimizer: \n",
    "          torch.optim.Optimizer, epoch: int, eval_period: int = 100,\n",
    "          test_all_epochs: bool = False) -> None:\n",
    "    \"\"\"\n",
    "    :param model: an RNN-T model\n",
    "    :param device: \"gpu\" or \"cpu\"\n",
    "    :param train_loader: training data loader\n",
    "    :param test_sample: a sample from the test set to log preliminary inference metrics\n",
    "    :param criterion: the loss function\n",
    "    :param optimizer: the training optimizer\n",
    "    :param epoch: the current epoch number\n",
    "    :param eval_period: the number of iterations between evaluations\n",
    "    \"\"\"\n",
    "    model.train()\n",
    "    data_len = len(train_loader.dataset)\n",
    "\n",
    "    for batch_idx, _data in tqdm(enumerate(train_loader), total=data_len):\n",
    "        spectrograms, labels, input_lengths, label_lengths = _data\n",
    "        spectrograms, labels = spectrograms.to(device), labels.to(device)\n",
    "\n",
    "        optimizer.zero_grad()\n",
    "\n",
    "        output = model.forward(spectrograms, input_lengths, labels, label_lengths)   # (batch, time, label_length, n_class)\n",
    "        output = F.log_softmax(output, dim=-1)\n",
    "        \n",
    "        loss = criterion(\n",
    "            output, \n",
    "            labels, \n",
    "            input_lengths.to(device), \n",
    "            label_lengths.to(device)\n",
    "        )\n",
    "        loss.backward()\n",
    "        optimizer.step()\n",
    "        \n",
    "        if batch_idx % eval_period == 0 or batch_idx == data_len:\n",
    "            wandb.log({'loss_train': loss.item()})\n",
    "            \n",
    "            with torch.no_grad():\n",
    "                spectrograms, labels, input_lengths, label_lengths = test_sample\n",
    "                spectrograms, labels = spectrograms.to(device), labels.to(device)\n",
    "                predictions = get_transducer_predictions(\n",
    "                    model, spectrograms, input_lengths, \n",
    "                    labels, label_lengths\n",
    "                )\n",
    "                output = model.forward(spectrograms, input_lengths, labels, label_lengths)\n",
    "                val_loss = criterion(\n",
    "                  output, \n",
    "                  labels, \n",
    "                  input_lengths.to(device), \n",
    "                  label_lengths.to(device)\n",
    "                )\n",
    "                wandb.log({'loss_val': val_loss.item()})\n",
    "                clear_output(wait=True)\n",
    "                print('\\nTrain Epoch: {} [{}/{} ({:.0f}%)]\\tTrain Loss: {:.6f}\\tVal loss: {:.6f}'.format(\n",
    "                      epoch, batch_idx * len(spectrograms), data_len,\n",
    "                      100. * batch_idx / len(train_loader), loss.item(), val_loss.item()))\n",
    "                print(f\"cer: {predictions.cer.mean()}, wer: {predictions.wer.mean()}\")\n",
    "                display(predictions)\n",
    "                wandb.log({'cer_val': predictions.cer.mean()})\n",
    "                wandb.log({'wer_val': predictions.wer.mean()})\n",
    "                wandb.log({'val_predictions': wandb.Table(dataframe=predictions)})\n",
    "\n",
    "\n",
    "def test(model: nn.Module, device: str, test_loader: data.DataLoader, \n",
    "         criterion: nn.Module, epoch: int, total_steps: int = None, \n",
    "         log_predictions: bool = False,\n",
    "         test_all_epochs: bool = False) -> None:\n",
    "    \"\"\"\n",
    "    :param model: an RNN-T model\n",
    "    :param device: \"gpu\" or \"cpu\"\n",
    "    :param test_loader: test data loader\n",
    "    :param criterion: the loss function\n",
    "    :param epoch: the current epoch number\n",
    "    :param total_steps: the number of test steps to perform. If None, the whole test set will be used for evaluation\n",
    "    :param log_predictions: if True, the predicted labels will be logged to the W&B dashboard\n",
    "    \"\"\"\n",
    "    print('Beginning eval...')\n",
    "    model.eval()\n",
    "    test_cer, test_wer, test_loss = [], [], []\n",
    "    test_predictions = []\n",
    "    if total_steps is None:\n",
    "        total_steps = len(test_loader)\n",
    "        \n",
    "    with torch.no_grad():\n",
    "        for i, _data in notebook.tqdm(enumerate(test_loader), total=total_steps):\n",
    "            if i == total_steps:\n",
    "                break\n",
    "            spectrograms, labels, input_lengths, label_lengths = _data\n",
    "            spectrograms, labels = spectrograms.to(device), labels.to(device)\n",
    "            output = model.forward(spectrograms, input_lengths, labels, label_lengths)\n",
    "            loss = criterion(\n",
    "              output, \n",
    "              labels, \n",
    "              input_lengths.to(device), \n",
    "              label_lengths.to(device)\n",
    "            )\n",
    "            test_loss.append(loss.item())\n",
    "            \n",
    "            predictions = get_transducer_predictions(\n",
    "                model, spectrograms, input_lengths, \n",
    "                labels, label_lengths\n",
    "            )\n",
    "            test_cer += list(predictions.cer)\n",
    "            test_wer += list(predictions.wer)\n",
    "            if log_predictions:\n",
    "                test_predictions.append(predictions)\n",
    "\n",
    "    avg_cer = np.mean(test_cer)\n",
    "    avg_wer = np.mean(test_wer)\n",
    "    avg_loss = np.mean(test_loss)\n",
    "\n",
    "    if not test_all_epochs:\n",
    "        if total_steps < len(test_loader):\n",
    "            wandb.log({\n",
    "                'loss_test': avg_loss, \n",
    "                'avg_cer': avg_cer, \n",
    "                'avg_wer': avg_wer\n",
    "            })\n",
    "        else:\n",
    "            wandb.log({\n",
    "                'loss_test_final': avg_loss, \n",
    "                'avg_cer_final': avg_cer, \n",
    "                'avg_wer_final': avg_wer\n",
    "            })\n",
    "        if log_predictions:\n",
    "            wandb.log({'test_predictions': wandb.Table(dataframe=pd.concat(test_predictions, ignore_index=True))})\n",
    "        \n",
    "    print('Epoch: {:d}, Test set: Average loss: {:.4f}, Average CER: {:4f} Average WER: {:.4f}\\n'.format(\n",
    "        epoch, avg_loss, avg_cer, avg_wer))\n",
    "\n",
    "    return round(avg_loss, 4), round(avg_cer, 4), round(avg_wer, 4)\n",
    "    "
   ]
  },
  {
   "cell_type": "code",
   "execution_count": 28,
   "metadata": {
    "id": "lOWGMWf9i-k-",
    "outputId": "4bb03d7e-413f-4571-b024-618169146b8a"
   },
   "outputs": [
    {
     "name": "stdout",
     "output_type": "stream",
     "text": [
      "GPU found! 🎉\n"
     ]
    }
   ],
   "source": [
    "torch.manual_seed(7)\n",
    "\n",
    "if torch.cuda.is_available():\n",
    "    print('GPU found! 🎉')\n",
    "    device = 'cuda:0'\n",
    "else:\n",
    "    print('Only CPU found! 💻')\n",
    "    device = 'cpu'\n",
    "\n",
    "# Hyperparameters for your model\n",
    "\n",
    "hparams = {\n",
    "    'model': {\n",
    "        'num_classes': len(tokenizer.char_map),\n",
    "        'input_dim': 80,\n",
    "        'num_encoder_layers': 4,\n",
    "        'num_decoder_layers': 2,\n",
    "        'encoder_hidden_state_dim': 320,\n",
    "        'decoder_hidden_state_dim': 512,\n",
    "        'output_dim': 512,\n",
    "        'encoder_is_bidirectional': True,\n",
    "        'encoder_dropout_p': 0.3,\n",
    "        'decoder_dropout_p': 0.3\n",
    "    },\n",
    "    'data': {\n",
    "        'batch_size': 1,\n",
    "        'epochs': 13,\n",
    "        'learning_rate': 1e-3  # as the plots are too unstable\n",
    "    }\n",
    "}\n",
    "\n",
    "kwargs = {'num_workers': 0, 'pin_memory': False} if device == 'cuda:0' else {}\n",
    "train_loader = data.DataLoader(train_dataset, batch_size=hparams['data']['batch_size'], \n",
    "                               shuffle=True, collate_fn=lambda x: data_processing(x), **kwargs)\n",
    "test_loader = data.DataLoader(test_dataset, batch_size=hparams['data']['batch_size'], \n",
    "                              shuffle=False, collate_fn=lambda x: data_processing(x, 'test'), **kwargs)\n",
    "\n"
   ]
  },
  {
   "cell_type": "code",
   "execution_count": 29,
   "metadata": {
    "id": "RPzsOxuai-k-",
    "outputId": "1f20306a-d430-4ca8-8a71-97fbb052c5ef"
   },
   "outputs": [
    {
     "data": {
      "text/plain": [
       "RNNTransducer(\n",
       "  (encoder): EncoderRNNT(\n",
       "    (lstm): LSTM(80, 320, num_layers=4, dropout=0.3, bidirectional=True)\n",
       "    (output_proj): Linear(in_features=640, out_features=512, bias=True)\n",
       "  )\n",
       "  (decoder): DecoderRNNT(\n",
       "    (embedding): Embedding(30, 512)\n",
       "    (lstm): LSTM(512, 512, num_layers=2, batch_first=True, dropout=0.3)\n",
       "    (output_proj): Linear(in_features=512, out_features=512, bias=True)\n",
       "  )\n",
       "  (joiner): Joiner(\n",
       "    (linear): Linear(in_features=512, out_features=30, bias=True)\n",
       "  )\n",
       ")"
      ]
     },
     "execution_count": 29,
     "metadata": {},
     "output_type": "execute_result"
    }
   ],
   "source": [
    "model = RNNTransducer(**hparams['model'])\n",
    "model.to(device)"
   ]
  },
  {
   "cell_type": "code",
   "execution_count": 1,
   "metadata": {
    "id": "0Y00qHnwi-k_",
    "scrolled": true
   },
   "outputs": [],
   "source": [
    "wandb.init(project=\"speech-transducer\", \n",
    "           group=\"base-architecture-add-hp\",\n",
    "           config=hparams)"
   ]
  },
  {
   "cell_type": "code",
   "execution_count": 78,
   "metadata": {
    "scrolled": true
   },
   "outputs": [
    {
     "name": "stdout",
     "output_type": "stream",
     "text": [
      "\n",
      "Train Epoch: 13 [28500/28539 (100%)]\tTrain Loss: 36.567841\tVal loss: 43.777996\n",
      "cer: 0.189873417721519, wer: 0.39285714285714285\n"
     ]
    },
    {
     "data": {
      "text/html": [
       "<div>\n",
       "<style scoped>\n",
       "    .dataframe tbody tr th:only-of-type {\n",
       "        vertical-align: middle;\n",
       "    }\n",
       "\n",
       "    .dataframe tbody tr th {\n",
       "        vertical-align: top;\n",
       "    }\n",
       "\n",
       "    .dataframe thead th {\n",
       "        text-align: right;\n",
       "    }\n",
       "</style>\n",
       "<table border=\"1\" class=\"dataframe\">\n",
       "  <thead>\n",
       "    <tr style=\"text-align: right;\">\n",
       "      <th></th>\n",
       "      <th>ground_truth</th>\n",
       "      <th>prediction</th>\n",
       "      <th>cer</th>\n",
       "      <th>wer</th>\n",
       "    </tr>\n",
       "  </thead>\n",
       "  <tbody>\n",
       "    <tr>\n",
       "      <th>0</th>\n",
       "      <td>he hoped there would be stew for dinner turnip...</td>\n",
       "      <td>he hoped there would be stood for dinner turni...</td>\n",
       "      <td>0.189873</td>\n",
       "      <td>0.392857</td>\n",
       "    </tr>\n",
       "  </tbody>\n",
       "</table>\n",
       "</div>"
      ],
      "text/plain": [
       "                                        ground_truth  \\\n",
       "0  he hoped there would be stew for dinner turnip...   \n",
       "\n",
       "                                          prediction       cer       wer  \n",
       "0  he hoped there would be stood for dinner turni...  0.189873  0.392857  "
      ]
     },
     "metadata": {},
     "output_type": "display_data"
    },
    {
     "name": "stderr",
     "output_type": "stream",
     "text": [
      "\n",
      "100%|█████████████████████████████████████████████████████████████████████████████████████████████████████████████████▊| 28501/28539 [1:41:02<00:15,  2.48it/s]\u001b[A\n",
      "100%|█████████████████████████████████████████████████████████████████████████████████████████████████████████████████▊| 28502/28539 [1:41:02<00:11,  3.10it/s]\u001b[A\n",
      "100%|█████████████████████████████████████████████████████████████████████████████████████████████████████████████████▊| 28503/28539 [1:41:02<00:10,  3.52it/s]\u001b[A\n",
      "100%|█████████████████████████████████████████████████████████████████████████████████████████████████████████████████▊| 28504/28539 [1:41:03<00:09,  3.87it/s]\u001b[A\n",
      "100%|█████████████████████████████████████████████████████████████████████████████████████████████████████████████████▊| 28505/28539 [1:41:03<00:08,  3.92it/s]\u001b[A\n",
      "100%|█████████████████████████████████████████████████████████████████████████████████████████████████████████████████▊| 28507/28539 [1:41:03<00:06,  4.69it/s]\u001b[A\n",
      "100%|█████████████████████████████████████████████████████████████████████████████████████████████████████████████████▉| 28508/28539 [1:41:03<00:06,  4.69it/s]\u001b[A\n",
      "100%|█████████████████████████████████████████████████████████████████████████████████████████████████████████████████▉| 28510/28539 [1:41:03<00:05,  5.57it/s]\u001b[A\n",
      "100%|█████████████████████████████████████████████████████████████████████████████████████████████████████████████████▉| 28511/28539 [1:41:04<00:05,  5.31it/s]\u001b[A\n",
      "100%|█████████████████████████████████████████████████████████████████████████████████████████████████████████████████▉| 28512/28539 [1:41:04<00:05,  5.38it/s]\u001b[A\n",
      "100%|█████████████████████████████████████████████████████████████████████████████████████████████████████████████████▉| 28513/28539 [1:41:04<00:04,  5.30it/s]\u001b[A\n",
      "100%|█████████████████████████████████████████████████████████████████████████████████████████████████████████████████▉| 28515/28539 [1:41:04<00:04,  5.74it/s]\u001b[A\n",
      "100%|█████████████████████████████████████████████████████████████████████████████████████████████████████████████████▉| 28516/28539 [1:41:04<00:03,  5.96it/s]\u001b[A\n",
      "100%|█████████████████████████████████████████████████████████████████████████████████████████████████████████████████▉| 28517/28539 [1:41:05<00:04,  5.35it/s]\u001b[A\n",
      "100%|█████████████████████████████████████████████████████████████████████████████████████████████████████████████████▉| 28518/28539 [1:41:05<00:04,  5.12it/s]\u001b[A\n",
      "100%|█████████████████████████████████████████████████████████████████████████████████████████████████████████████████▉| 28519/28539 [1:41:05<00:03,  5.32it/s]\u001b[A\n",
      "100%|█████████████████████████████████████████████████████████████████████████████████████████████████████████████████▉| 28520/28539 [1:41:05<00:03,  5.32it/s]\u001b[A\n",
      "100%|█████████████████████████████████████████████████████████████████████████████████████████████████████████████████▉| 28521/28539 [1:41:05<00:03,  5.78it/s]\u001b[A\n",
      "100%|█████████████████████████████████████████████████████████████████████████████████████████████████████████████████▉| 28522/28539 [1:41:06<00:02,  6.15it/s]\u001b[A\n",
      "100%|█████████████████████████████████████████████████████████████████████████████████████████████████████████████████▉| 28523/28539 [1:41:06<00:02,  5.82it/s]\u001b[A\n",
      "100%|█████████████████████████████████████████████████████████████████████████████████████████████████████████████████▉| 28524/28539 [1:41:06<00:02,  5.36it/s]\u001b[A\n",
      "100%|█████████████████████████████████████████████████████████████████████████████████████████████████████████████████▉| 28526/28539 [1:41:06<00:02,  5.98it/s]\u001b[A\n",
      "100%|█████████████████████████████████████████████████████████████████████████████████████████████████████████████████▉| 28527/28539 [1:41:06<00:02,  5.79it/s]\u001b[A\n",
      "100%|█████████████████████████████████████████████████████████████████████████████████████████████████████████████████▉| 28528/28539 [1:41:07<00:01,  5.76it/s]\u001b[A\n",
      "100%|█████████████████████████████████████████████████████████████████████████████████████████████████████████████████▉| 28529/28539 [1:41:07<00:01,  5.96it/s]\u001b[A\n",
      "100%|█████████████████████████████████████████████████████████████████████████████████████████████████████████████████▉| 28530/28539 [1:41:07<00:01,  5.35it/s]\u001b[A\n",
      "100%|█████████████████████████████████████████████████████████████████████████████████████████████████████████████████▉| 28531/28539 [1:41:07<00:01,  5.41it/s]\u001b[A\n",
      "100%|█████████████████████████████████████████████████████████████████████████████████████████████████████████████████▉| 28532/28539 [1:41:07<00:01,  5.32it/s]\u001b[A\n",
      "100%|█████████████████████████████████████████████████████████████████████████████████████████████████████████████████▉| 28533/28539 [1:41:08<00:01,  5.21it/s]\u001b[A\n",
      "100%|█████████████████████████████████████████████████████████████████████████████████████████████████████████████████▉| 28534/28539 [1:41:08<00:00,  5.22it/s]\u001b[A\n",
      "100%|█████████████████████████████████████████████████████████████████████████████████████████████████████████████████▉| 28535/28539 [1:41:08<00:00,  5.14it/s]\u001b[A\n",
      "100%|█████████████████████████████████████████████████████████████████████████████████████████████████████████████████▉| 28536/28539 [1:41:08<00:00,  5.70it/s]\u001b[A\n",
      "100%|█████████████████████████████████████████████████████████████████████████████████████████████████████████████████▉| 28537/28539 [1:41:08<00:00,  5.44it/s]\u001b[A\n",
      "100%|█████████████████████████████████████████████████████████████████████████████████████████████████████████████████▉| 28538/28539 [1:41:08<00:00,  6.03it/s]\u001b[A\n",
      "100%|██████████████████████████████████████████████████████████████████████████████████████████████████████████████████| 28539/28539 [1:41:09<00:00,  4.70it/s]\u001b[A\n"
     ]
    },
    {
     "name": "stdout",
     "output_type": "stream",
     "text": [
      "Beginning eval...\n"
     ]
    },
    {
     "name": "stderr",
     "output_type": "stream",
     "text": [
      "/tmp/ipykernel_11722/1355900723.py:21: TqdmDeprecationWarning: This function will be removed in tqdm==5.0.0\n",
      "Please use `tqdm.notebook.tqdm` instead of `tqdm.tqdm_notebook`\n",
      "  for i, _data in tqdm_notebook(enumerate(test_loader), total=total_steps):\n"
     ]
    },
    {
     "data": {
      "application/vnd.jupyter.widget-view+json": {
       "model_id": "bea339378805496f9bf62a1dd42cad79",
       "version_major": 2,
       "version_minor": 0
      },
      "text/plain": [
       "HBox(children=(HTML(value=''), FloatProgress(value=0.0, max=2620.0), HTML(value='')))"
      ]
     },
     "metadata": {},
     "output_type": "display_data"
    },
    {
     "name": "stdout",
     "output_type": "stream",
     "text": [
      "\n",
      "Epoch: 13, Test set: Average loss: 19.1648, Average CER: 0.143214 Average WER: 0.2943\n",
      "\n",
      "\n"
     ]
    }
   ],
   "source": [
    "optimizer = optim.Adam(model.parameters(), lr=hparams['data']['learning_rate'])\n",
    "criterion = RNNTLoss(blank=tokenizer.get_symbol_index(BLANK_SYMBOL), reduction='mean')\n",
    "test_sample = next(iter(test_loader))\n",
    "\n",
    "\n",
    "for epoch in notebook.tqdm(range(1, hparams['data']['epochs'] + 1)):\n",
    "    train(model, device, train_loader, test_sample, criterion, optimizer, epoch, eval_period=50)\n",
    "    utils.save_checkpoint(model, checkpoint_name=f'model_epoch{epoch}.tar', path=snapshot_dir)\n",
    "    wandb.save(f'model_epoch{epoch}.tar')\n",
    "    test(model, device, test_loader, criterion, epoch, log_predictions=True)"
   ]
  },
  {
   "cell_type": "markdown",
   "metadata": {},
   "source": [
    "### Test epoch 13"
   ]
  },
  {
   "cell_type": "code",
   "execution_count": 30,
   "metadata": {},
   "outputs": [
    {
     "name": "stdout",
     "output_type": "stream",
     "text": [
      "Beginning eval...\n"
     ]
    },
    {
     "data": {
      "application/vnd.jupyter.widget-view+json": {
       "model_id": "136470b0679a4cbc8a262734a280b4a8",
       "version_major": 2,
       "version_minor": 0
      },
      "text/plain": [
       "HBox(children=(HTML(value=''), FloatProgress(value=0.0, max=2620.0), HTML(value='')))"
      ]
     },
     "metadata": {},
     "output_type": "display_data"
    },
    {
     "name": "stdout",
     "output_type": "stream",
     "text": [
      "\n",
      "Epoch: 13, Test set: Average loss: 19.1648, Average CER: 0.143214 Average WER: 0.2943\n",
      "\n"
     ]
    },
    {
     "data": {
      "text/plain": [
       "(19.1648, 0.1432, 0.2943)"
      ]
     },
     "execution_count": 30,
     "metadata": {},
     "output_type": "execute_result"
    }
   ],
   "source": [
    "optimizer = optim.Adam(model.parameters(), lr=hparams['data']['learning_rate'])\n",
    "criterion = RNNTLoss(blank=tokenizer.get_symbol_index(BLANK_SYMBOL), reduction='mean')\n",
    "test_sample = next(iter(test_loader))\n",
    "checkpoint_name = f'model_epoch13.tar'\n",
    "epoch = 13\n",
    "\n",
    "utils.load_checkpoint(model=model, path=snapshot_dir, checkpoint_name=checkpoint_name, device=device)\n",
    "test(model, device, test_loader, criterion, epoch, test_all_epochs=True)"
   ]
  }
 ],
 "metadata": {
  "colab": {
   "name": "homework3_student.ipynb",
   "provenance": [],
   "toc_visible": true
  },
  "kernelspec": {
   "display_name": "Python 3 (ipykernel)",
   "language": "python",
   "name": "python3"
  },
  "language_info": {
   "codemirror_mode": {
    "name": "ipython",
    "version": 3
   },
   "file_extension": ".py",
   "mimetype": "text/x-python",
   "name": "python",
   "nbconvert_exporter": "python",
   "pygments_lexer": "ipython3",
   "version": "3.10.12"
  }
 },
 "nbformat": 4,
 "nbformat_minor": 4
}
